{
 "cells": [
  {
   "cell_type": "markdown",
   "id": "61a33132-363e-45c8-aab0-dc37618a102e",
   "metadata": {},
   "source": [
    "### Q1. What is multiprocessing in python? Why is it useful?"
   ]
  },
  {
   "cell_type": "markdown",
   "id": "641981b0-3c72-42a0-82d3-b5b858e0843a",
   "metadata": {},
   "source": [
    " A process of running multiple process simultaneously within a single thread. It allows the breaking of the application into smaller thread that can run indepently.\n",
    " It can improve the overall perfomance of the microprocessor and the making the things easier and more efficient. The primary reason for using multiprocessing is improve the performance of the python program . \n",
    "Multiprocessing allow to execute the task  cocurrently which means multiple task can run at the same time .In multiproceswsing each process creates its own memory which its don't in each other and they do work with isolation.\n",
    "Also if one processes crash so it don't affect the other processes they still working with the capability ."
   ]
  },
  {
   "cell_type": "markdown",
   "id": "676824de-ca34-455c-b8df-fcebc35f3453",
   "metadata": {},
   "source": [
    "### Q2. What are the differences between multiprocessing and multithreading?"
   ]
  },
  {
   "cell_type": "markdown",
   "id": "7fea39fb-6aa9-4aa5-88e5-adee1366b4e1",
   "metadata": {},
   "source": [
    "Multiprocessing uses multiple  independent process to do task simultaneously\n",
    "while Multithreading uses single process to switch quickly between different task\n",
    "\n",
    "Python 'multiprocessing' module is used for multiprocessing \n",
    "Pyhton 'threading' module is used for multitkreading\n",
    "\n",
    "\n",
    "Creating and managing separate process is more complex because each process has its  own memory and resource \n",
    "thread are simpler to create and manage as they are shared memeory and same redsources"
   ]
  },
  {
   "cell_type": "markdown",
   "id": "583c4e26-8139-48f3-8cde-554c881f891c",
   "metadata": {},
   "source": [
    "### Q3. Write a python code to create a process using the multiprocessing module."
   ]
  },
  {
   "cell_type": "code",
   "execution_count": 9,
   "id": "2338b5c3-7a1f-48c3-a6a2-172c22349048",
   "metadata": {},
   "outputs": [
    {
     "name": "stdout",
     "output_type": "stream",
     "text": [
      "Pwskills\n",
      "hello\n"
     ]
    }
   ],
   "source": [
    "import multiprocessing\n",
    "def test():\n",
    "    print(\"hello\")\n",
    "    \n",
    "if __name__ =='__main__':\n",
    "    a=multiprocessing.Process(target=test)\n",
    "    print(\"Pwskills\")\n",
    "    a.start()\n",
    "    a.join()\n"
   ]
  },
  {
   "cell_type": "markdown",
   "id": "559aa48a-66aa-41cc-a40e-8006b566c0b1",
   "metadata": {},
   "source": [
    "### Q4 What is a multiprocessing pool in python? Why is it used?"
   ]
  },
  {
   "cell_type": "markdown",
   "id": "4c6d0580-fb30-4d26-8819-393f3f87cd37",
   "metadata": {},
   "source": [
    "In multiprocessing pool if you have a big task so you can distribute the  task \n",
    "across the multiple processes to complete  the task in easier manner . It used to take the advantage of CPU cores and and speed up the task that can be done simultaneously\n",
    "\n",
    "By distributing the task means a bigger task into the smaller task among the process so you can complete the overall task in more efficient way so that its having a multiple process to share the workload of the task"
   ]
  },
  {
   "cell_type": "markdown",
   "id": "8d00dd25-51da-45e5-9e47-800d23555d70",
   "metadata": {},
   "source": [
    "### Q5. How can we create a pool of worker processes in python using the multiprocessing module?"
   ]
  },
  {
   "cell_type": "markdown",
   "id": "dd3ff37f-6c0a-4f7d-b509-85674093485c",
   "metadata": {},
   "source": [
    "To create a pool of worker processes in python using the _multiprocessing_ module , you can use the *Pool* class. Multiprocessing module helps you tp manage a group of worker processes to do task more quickly by splitting the work among them "
   ]
  },
  {
   "cell_type": "code",
   "execution_count": 4,
   "id": "a060bc4c-b0a6-48a8-84bc-c504f3cbd0b8",
   "metadata": {},
   "outputs": [
    {
     "name": "stdout",
     "output_type": "stream",
     "text": [
      "[9, 16, 25, 36, 49, 64]\n"
     ]
    }
   ],
   "source": [
    "import multiprocessing\n",
    "def test(num):\n",
    "    return num*num\n",
    "    \n",
    "if __name__=='__main__':\n",
    "    with multiprocessing.Pool(processes=2) as pool:\n",
    "        result=pool.map(test,(3,4,5,6,7,8))\n",
    "        print(result)"
   ]
  },
  {
   "cell_type": "markdown",
   "id": "1a83aacb-0f67-4fba-ad67-7dc03e88f86d",
   "metadata": {},
   "source": [
    "### Q6. Write a python program to create 4 processes, each process should print a different number using the multiprocessing module in python."
   ]
  },
  {
   "cell_type": "code",
   "execution_count": 2,
   "id": "d8b45b8e-dd08-4f31-a90a-8ab99f2afce6",
   "metadata": {},
   "outputs": [
    {
     "name": "stdout",
     "output_type": "stream",
     "text": [
      "Process1: My number is 1\n",
      "Process2: My number is 2\n",
      "Process3: My number is 3\n",
      "Process4: My number is 4\n"
     ]
    }
   ],
   "source": [
    "import multiprocessing\n",
    "def print_numbers(number):\n",
    "    print(f\"Process{number}: My number is {number}\")\n",
    "    \n",
    "if __name__ == '__main__':\n",
    "    numbers = [1,2,3,4]\n",
    "    processes = []\n",
    "    \n",
    "    \n",
    "    for number in numbers:\n",
    "        process = multiprocessing.Process(target=print_numbers , args=(number,))\n",
    "        processes.append(process)\n",
    "        process.start()\n",
    "        process.join()"
   ]
  },
  {
   "cell_type": "code",
   "execution_count": null,
   "id": "566b3570-080a-4443-9297-ebbbda25aecf",
   "metadata": {},
   "outputs": [],
   "source": []
  }
 ],
 "metadata": {
  "kernelspec": {
   "display_name": "Python 3 (ipykernel)",
   "language": "python",
   "name": "python3"
  },
  "language_info": {
   "codemirror_mode": {
    "name": "ipython",
    "version": 3
   },
   "file_extension": ".py",
   "mimetype": "text/x-python",
   "name": "python",
   "nbconvert_exporter": "python",
   "pygments_lexer": "ipython3",
   "version": "3.10.8"
  }
 },
 "nbformat": 4,
 "nbformat_minor": 5
}
